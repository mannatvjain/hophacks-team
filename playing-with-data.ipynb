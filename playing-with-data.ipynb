{
 "cells": [
  {
   "cell_type": "code",
   "execution_count": 1,
   "id": "9bdca95e-a53c-4a43-9298-e8e6598b4dbd",
   "metadata": {},
   "outputs": [
    {
     "name": "stdout",
     "output_type": "stream",
     "text": [
      "\u001b[34mgapmap-data\u001b[m\u001b[m             playing-with-data.ipynb README.md\n"
     ]
    }
   ],
   "source": [
    "!ls"
   ]
  },
  {
   "cell_type": "code",
   "execution_count": 3,
   "id": "d8ae8b22-4db3-469f-82f5-34ecc4994bbd",
   "metadata": {},
   "outputs": [
    {
     "name": "stdout",
     "output_type": "stream",
     "text": [
      "capabilities.json gapmap-data.json  metadata.json     resources.json\n",
      "fields.json       gaps.json         README.md         schema.json\n"
     ]
    }
   ],
   "source": [
    "!ls gapmap-data"
   ]
  },
  {
   "cell_type": "code",
   "execution_count": 15,
   "id": "ebd8c186-5d13-4929-a5d1-54d576826e0c",
   "metadata": {},
   "outputs": [
    {
     "name": "stdout",
     "output_type": "stream",
     "text": [
      "['fields', 'gaps', 'capabilities', 'resources', 'resourceTypes', 'metadata']\n"
     ]
    }
   ],
   "source": [
    "import json\n",
    "with open(\"gapmap-data/gapmap-data.json\") as f:\n",
    "    data = json.load(f)\n",
    "print(list(data.keys()))"
   ]
  },
  {
   "cell_type": "code",
   "execution_count": 20,
   "id": "8188e7f9-c330-406b-9691-8fd77909001a",
   "metadata": {},
   "outputs": [
    {
     "name": "stdout",
     "output_type": "stream",
     "text": [
      "\n",
      "=== FIELDS ===\n",
      "  - [list] (20 items)\n",
      "    - id\n",
      "    - name\n",
      "    - slug\n",
      "    - description\n",
      "\n",
      "=== GAPS ===\n",
      "  - [list] (104 items)\n",
      "    - id\n",
      "    - name\n",
      "    - slug\n",
      "    - description\n",
      "    - field\n",
      "      - id\n",
      "      - name\n",
      "    - foundationalCapabilities\n",
      "      - [list] (2 items)\n",
      "    - tags\n",
      "      - [list] (2 items)\n",
      "\n",
      "=== CAPABILITIES ===\n",
      "  - [list] (368 items)\n",
      "    - id\n",
      "    - name\n",
      "    - slug\n",
      "    - description\n",
      "    - gaps\n",
      "    - resources\n",
      "      - [list] (5 items)\n",
      "    - tags\n",
      "\n",
      "=== RESOURCES ===\n",
      "  - [list] (1062 items)\n",
      "    - id\n",
      "    - title\n",
      "    - url\n",
      "    - summary\n",
      "    - types\n",
      "      - [list] (1 items)\n",
      "\n",
      "=== RESOURCETYPES ===\n",
      "  - [list] (11 items)\n",
      "\n",
      "=== METADATA ===\n",
      "  - exportDate\n",
      "  - version\n",
      "  - counts\n",
      "    - fields\n",
      "    - gaps\n",
      "    - capabilities\n",
      "    - resources\n"
     ]
    }
   ],
   "source": [
    "import json\n",
    "\n",
    "# Load JSON\n",
    "with open(\"gapmap-data/gapmap-data.json\") as f:\n",
    "    data = json.load(f)\n",
    "\n",
    "# Recursive explorer\n",
    "def explore(d, indent=0):\n",
    "    prefix = \"  \" * indent\n",
    "    if isinstance(d, dict):\n",
    "        for k, v in d.items():\n",
    "            print(f\"{prefix}- {k}\")\n",
    "            explore(v, indent + 1)\n",
    "    elif isinstance(d, list):\n",
    "        if len(d) > 0:\n",
    "            print(f\"{prefix}- [list] ({len(d)} items)\")\n",
    "            # show structure of the first item\n",
    "            explore(d[0], indent + 1)\n",
    "\n",
    "# Explore each top-level key\n",
    "for key in data:\n",
    "    print(f\"\\n=== {key.upper()} ===\")\n",
    "    explore(data[key], 1)\n"
   ]
  },
  {
   "cell_type": "code",
   "execution_count": 23,
   "id": "6d0e21eb-4137-4f42-a571-a6480b0e618e",
   "metadata": {},
   "outputs": [
    {
     "name": "stdout",
     "output_type": "stream",
     "text": [
      "Unique 'types' found:\n",
      "- Company\n",
      "- FRO\n",
      "- FRO Concept\n",
      "- Funding Program\n",
      "- Individual\n",
      "- Initiative\n",
      "- Research Org\n",
      "- Research and Reviews\n",
      "- Roadmap\n",
      "- Technology Seed\n",
      "- Whitepapers and Essays\n"
     ]
    }
   ],
   "source": [
    "import json\n",
    "\n",
    "with open(\"gapmap-data/gapmap-data.json\") as f:\n",
    "    data = json.load(f)\n",
    "\n",
    "all_types = set()\n",
    "\n",
    "def collect_types(obj):\n",
    "    if isinstance(obj, dict):\n",
    "        for k, v in obj.items():\n",
    "            if k == \"types\" and isinstance(v, list):\n",
    "                all_types.update(v)\n",
    "            else:\n",
    "                collect_types(v)\n",
    "    elif isinstance(obj, list):\n",
    "        for item in obj:\n",
    "            collect_types(item)\n",
    "\n",
    "collect_types(data)\n",
    "\n",
    "print(\"Unique 'types' found:\")\n",
    "for t in sorted(all_types):\n",
    "    print(\"-\", t)\n"
   ]
  },
  {
   "cell_type": "code",
   "execution_count": null,
   "id": "44cffa1d-a5be-4e72-97f7-e950ae163d6f",
   "metadata": {},
   "outputs": [],
   "source": []
  }
 ],
 "metadata": {
  "kernelspec": {
   "display_name": "Python 3 (ipykernel)",
   "language": "python",
   "name": "python3"
  },
  "language_info": {
   "codemirror_mode": {
    "name": "ipython",
    "version": 3
   },
   "file_extension": ".py",
   "mimetype": "text/x-python",
   "name": "python",
   "nbconvert_exporter": "python",
   "pygments_lexer": "ipython3",
   "version": "3.12.9"
  }
 },
 "nbformat": 4,
 "nbformat_minor": 5
}
